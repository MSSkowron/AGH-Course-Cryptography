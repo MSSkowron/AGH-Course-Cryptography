{
 "cells": [
  {
   "cell_type": "code",
   "execution_count": 2,
   "metadata": {},
   "outputs": [
    {
     "data": {
      "text/html": [
       "<style>.container { width:100% !important; }</style>"
      ],
      "text/plain": [
       "<IPython.core.display.HTML object>"
      ]
     },
     "metadata": {},
     "output_type": "display_data"
    },
    {
     "data": {
      "text/html": [
       "<style>.output_result { max-width:100% !important; }</style>"
      ],
      "text/plain": [
       "<IPython.core.display.HTML object>"
      ]
     },
     "metadata": {},
     "output_type": "display_data"
    },
    {
     "data": {
      "text/html": [
       "<style>.prompt { display:none !important; }</style>"
      ],
      "text/plain": [
       "<IPython.core.display.HTML object>"
      ]
     },
     "metadata": {},
     "output_type": "display_data"
    }
   ],
   "source": [
    "from IPython.core.display import display, HTML\n",
    "display(HTML(\"<style>.container { width:100% !important; }</style>\"))\n",
    "display(HTML(\"<style>.output_result { max-width:100% !important; }</style>\"))\n",
    "display(HTML(\"<style>.prompt { display:none !important; }</style>\"))"
   ]
  },
  {
   "cell_type": "markdown",
   "metadata": {},
   "source": [
    "# Advanced Encryption System\n",
    "\n",
    "Advanced Encryption Standard (AES) to symetryczny szyfr blokowy, następca szyfru DES. Został opublikowany po raz pierwszy w 1998 roku, a w 2001 został przyjęty jako standard.\n",
    "\n",
    "AES jest oparty na algorytmie Rijndaela, którego autorami są belgijscy kryptografowie, Joan Daemen i Vincent Rijmen. \n",
    "Zaprezentowali oni swoją propozycję szyfru Instytucji NIST w ramach ogłoszonego konkursu.\n",
    "NIST wybrał trzy algorytmy z rodziny Rijndaela, z których każdy miał tę samą wielkość bloku (128 bitów), ale miały różne długości klucza: 128, 192 i 256 bitów.\n",
    "\n",
    "AES jest szyfrem opartym o sieć podstawieniowo-permutacyjną. Nie wykorzystuje sieci Feistela, a więc wszystkie operacje w algorytmie muszą mieć swoje wersje odwrotne. \n",
    "\n",
    "AES jest pierwszym (i jedynym) dostępnym publicznie szyfrem, który był zatwierdzony i wykorzystywany przez NSA do ochrony ściśle tajnych informacji.\n",
    "W tym tutorialu zostanie przedstawiony wariant AES z kluczem o długości 128 bitów."
   ]
  },
  {
   "cell_type": "code",
   "execution_count": 3,
   "metadata": {},
   "outputs": [],
   "source": [
    "# funkcje pomocnicze \n",
    "def binary_to_decimal(binarybits):\n",
    "    \"\"\" Convert binary bits to decimal \"\"\"\n",
    "    decimal = int(binarybits, 2)\n",
    "    return decimal\n",
    "\n",
    "def decimal_to_binary(decimal):\n",
    "    \"\"\" Convert decimal to binary bits \"\"\"\n",
    "    binary4bits = bin(decimal)[2:].zfill(8)\n",
    "    return binary4bits\n",
    "\n",
    "def bytes_to_matrix(text):\n",
    "    \"\"\" Converts a 16-byte array into a 4x4 matrix. \"\"\"\n",
    "    bytes_table = [text[i:i+8] for i in range(0, len(text), 8)]\n",
    "    return [bytes_table[i:i+4] for i in range(0, 16, 4)]\n",
    "\n",
    "def hex_to_binary(hex_code):\n",
    "    \"\"\" Converts hex number into binary string such that (len(bin_string) % 8 == 0) \"\"\"\n",
    "    bin_code = bin( hex_code )[2:]\n",
    "    padding = (8 - len(bin_code)%8)%8\n",
    "    return '0' * padding + bin_code\n",
    "\n",
    "#diagnostyka:\n",
    "#print(decimal_to_binary(15))\n",
    "#print(binary_to_decimal(\"00001111\"))\n",
    "#print(decimal_to_binary(0))\n",
    "#print(hex_to_binary(0x100))"
   ]
  },
  {
   "attachments": {},
   "cell_type": "markdown",
   "metadata": {},
   "source": [
    "## **Operacje w ciele skończonym Galois**\n",
    "\n",
    "W ciele skończonym Galois są zdefiniowane operacje dodawania, odejmowania, mnożenia i dzielenia (z wyjątkiem dzielenia przez 0), które zwracają ośmiobitowe wyniki.\n",
    "AES używa mnożenia (gmul) i operacji odwrotnej w kroku mixColumns.\n",
    "\n",
    "#### Gmul Mnożenie\n",
    "\n",
    "Schemat:\n",
    "1. Weź dwie ośmiobitowe liczby a, b i iloczyn p\n",
    "2. p = 0\n",
    "3. Pętla (8 razy)\n",
    "    * Jeżeli najmniej znaczący bit (low bit) == 1 to p = p ^ a\n",
    "    * Przesuń a o jeden bit w lewo, usuwając najbardziej znaczący bit (high bit) i ustawiajac najmniej znaczący bit na 0 \n",
    "    * Jeśli przed przesunięciem bitowym (w poprzednim kroku) najbardziej znaczący bit a był ustawiony na 1 to a = a ^ 0x1b\n",
    "    * Przesuń b o jeden bit w prawo, usuwając najmniej znaczący bit i ustawiając najbardziej znaczący bit na 0.\n",
    "4. Zwróć p "
   ]
  },
  {
   "cell_type": "code",
   "execution_count": 4,
   "metadata": {},
   "outputs": [
    {
     "data": {
      "text/plain": [
       "9"
      ]
     },
     "execution_count": 4,
     "metadata": {},
     "output_type": "execute_result"
    }
   ],
   "source": [
    "# funkcje pomocnicze dla operacji w ciele Galois\n",
    "def gadd(a, b):\n",
    "    return a ^ b\n",
    "\n",
    "def gsub(a, b):\n",
    "    return a ^ b\n",
    "\n",
    "def gmul(a, b):\n",
    "    p = 0\n",
    "    for i in range(8):\n",
    "        if b & 1 == 1:\n",
    "            p = p ^ a\n",
    "        prev_a = a\n",
    "        a = (a << 1) % 256\n",
    "        \n",
    "        hi_bit_set = prev_a & 0x80   #0x80 --> 10000000\n",
    "        if hi_bit_set == 0x80:\n",
    "            a = a ^ 0x1b\n",
    "        b = b >> 1 \n",
    "    return p\n",
    "       \n",
    "gmul(7, 3)   "
   ]
  },
  {
   "cell_type": "markdown",
   "metadata": {},
   "source": [
    "### S-Box\n",
    "Podobnie jak DES, AES używa mechanizmu sboxów (s-box). \n",
    "Sboxy mają za zadanie wprowadzenie nieliniowości do przekształcenia bloku bitów (sprawienie, aby korelacja między tekstem jawnym, a szyfrogramem była jak najmniejsza). Design S-boxów AES uwzględnia warunek uzyskania efektu lawinowego (strict avalanche effect) to znaczy zmiana 1 bitu wejściowego powinna wywołać zmianę wszystkich bitów wyjściowych z 50% prawdopodobieństwem. Poniżej przedstawiono zawartość SBOX oraz INVERSE_SBOX dla AES. W celu wygenerowania SBOX (oraz wersji odwrotnej) wykonywana jest operacja obliczania elementu odwrotnego w ciele skończonym Galois."
   ]
  },
  {
   "cell_type": "code",
   "execution_count": 5,
   "metadata": {},
   "outputs": [],
   "source": [
    "SBOX = [\n",
    "    0x63, 0x7C, 0x77, 0x7B, 0xF2, 0x6B, 0x6F, 0xC5, 0x30, 0x01, 0x67, 0x2B, 0xFE, 0xD7, 0xAB, 0x76,\n",
    "    0xCA, 0x82, 0xC9, 0x7D, 0xFA, 0x59, 0x47, 0xF0, 0xAD, 0xD4, 0xA2, 0xAF, 0x9C, 0xA4, 0x72, 0xC0,\n",
    "    0xB7, 0xFD, 0x93, 0x26, 0x36, 0x3F, 0xF7, 0xCC, 0x34, 0xA5, 0xE5, 0xF1, 0x71, 0xD8, 0x31, 0x15,\n",
    "    0x04, 0xC7, 0x23, 0xC3, 0x18, 0x96, 0x05, 0x9A, 0x07, 0x12, 0x80, 0xE2, 0xEB, 0x27, 0xB2, 0x75,\n",
    "    0x09, 0x83, 0x2C, 0x1A, 0x1B, 0x6E, 0x5A, 0xA0, 0x52, 0x3B, 0xD6, 0xB3, 0x29, 0xE3, 0x2F, 0x84,\n",
    "    0x53, 0xD1, 0x00, 0xED, 0x20, 0xFC, 0xB1, 0x5B, 0x6A, 0xCB, 0xBE, 0x39, 0x4A, 0x4C, 0x58, 0xCF,\n",
    "    0xD0, 0xEF, 0xAA, 0xFB, 0x43, 0x4D, 0x33, 0x85, 0x45, 0xF9, 0x02, 0x7F, 0x50, 0x3C, 0x9F, 0xA8,\n",
    "    0x51, 0xA3, 0x40, 0x8F, 0x92, 0x9D, 0x38, 0xF5, 0xBC, 0xB6, 0xDA, 0x21, 0x10, 0xFF, 0xF3, 0xD2,\n",
    "    0xCD, 0x0C, 0x13, 0xEC, 0x5F, 0x97, 0x44, 0x17, 0xC4, 0xA7, 0x7E, 0x3D, 0x64, 0x5D, 0x19, 0x73,\n",
    "    0x60, 0x81, 0x4F, 0xDC, 0x22, 0x2A, 0x90, 0x88, 0x46, 0xEE, 0xB8, 0x14, 0xDE, 0x5E, 0x0B, 0xDB,\n",
    "    0xE0, 0x32, 0x3A, 0x0A, 0x49, 0x06, 0x24, 0x5C, 0xC2, 0xD3, 0xAC, 0x62, 0x91, 0x95, 0xE4, 0x79,\n",
    "    0xE7, 0xC8, 0x37, 0x6D, 0x8D, 0xD5, 0x4E, 0xA9, 0x6C, 0x56, 0xF4, 0xEA, 0x65, 0x7A, 0xAE, 0x08,\n",
    "    0xBA, 0x78, 0x25, 0x2E, 0x1C, 0xA6, 0xB4, 0xC6, 0xE8, 0xDD, 0x74, 0x1F, 0x4B, 0xBD, 0x8B, 0x8A,\n",
    "    0x70, 0x3E, 0xB5, 0x66, 0x48, 0x03, 0xF6, 0x0E, 0x61, 0x35, 0x57, 0xB9, 0x86, 0xC1, 0x1D, 0x9E,\n",
    "    0xE1, 0xF8, 0x98, 0x11, 0x69, 0xD9, 0x8E, 0x94, 0x9B, 0x1E, 0x87, 0xE9, 0xCE, 0x55, 0x28, 0xDF,\n",
    "    0x8C, 0xA1, 0x89, 0x0D, 0xBF, 0xE6, 0x42, 0x68, 0x41, 0x99, 0x2D, 0x0F, 0xB0, 0x54, 0xBB, 0x16,\n",
    "]\n",
    "\n",
    "\n",
    "INV_SBOX = [\n",
    "    0x52, 0x09, 0x6A, 0xD5, 0x30, 0x36, 0xA5, 0x38, 0xBF, 0x40, 0xA3, 0x9E, 0x81, 0xF3, 0xD7, 0xFB,\n",
    "    0x7C, 0xE3, 0x39, 0x82, 0x9B, 0x2F, 0xFF, 0x87, 0x34, 0x8E, 0x43, 0x44, 0xC4, 0xDE, 0xE9, 0xCB,\n",
    "    0x54, 0x7B, 0x94, 0x32, 0xA6, 0xC2, 0x23, 0x3D, 0xEE, 0x4C, 0x95, 0x0B, 0x42, 0xFA, 0xC3, 0x4E,\n",
    "    0x08, 0x2E, 0xA1, 0x66, 0x28, 0xD9, 0x24, 0xB2, 0x76, 0x5B, 0xA2, 0x49, 0x6D, 0x8B, 0xD1, 0x25,\n",
    "    0x72, 0xF8, 0xF6, 0x64, 0x86, 0x68, 0x98, 0x16, 0xD4, 0xA4, 0x5C, 0xCC, 0x5D, 0x65, 0xB6, 0x92,\n",
    "    0x6C, 0x70, 0x48, 0x50, 0xFD, 0xED, 0xB9, 0xDA, 0x5E, 0x15, 0x46, 0x57, 0xA7, 0x8D, 0x9D, 0x84,\n",
    "    0x90, 0xD8, 0xAB, 0x00, 0x8C, 0xBC, 0xD3, 0x0A, 0xF7, 0xE4, 0x58, 0x05, 0xB8, 0xB3, 0x45, 0x06,\n",
    "    0xD0, 0x2C, 0x1E, 0x8F, 0xCA, 0x3F, 0x0F, 0x02, 0xC1, 0xAF, 0xBD, 0x03, 0x01, 0x13, 0x8A, 0x6B,\n",
    "    0x3A, 0x91, 0x11, 0x41, 0x4F, 0x67, 0xDC, 0xEA, 0x97, 0xF2, 0xCF, 0xCE, 0xF0, 0xB4, 0xE6, 0x73,\n",
    "    0x96, 0xAC, 0x74, 0x22, 0xE7, 0xAD, 0x35, 0x85, 0xE2, 0xF9, 0x37, 0xE8, 0x1C, 0x75, 0xDF, 0x6E,\n",
    "    0x47, 0xF1, 0x1A, 0x71, 0x1D, 0x29, 0xC5, 0x89, 0x6F, 0xB7, 0x62, 0x0E, 0xAA, 0x18, 0xBE, 0x1B,\n",
    "    0xFC, 0x56, 0x3E, 0x4B, 0xC6, 0xD2, 0x79, 0x20, 0x9A, 0xDB, 0xC0, 0xFE, 0x78, 0xCD, 0x5A, 0xF4,\n",
    "    0x1F, 0xDD, 0xA8, 0x33, 0x88, 0x07, 0xC7, 0x31, 0xB1, 0x12, 0x10, 0x59, 0x27, 0x80, 0xEC, 0x5F,\n",
    "    0x60, 0x51, 0x7F, 0xA9, 0x19, 0xB5, 0x4A, 0x0D, 0x2D, 0xE5, 0x7A, 0x9F, 0x93, 0xC9, 0x9C, 0xEF,\n",
    "    0xA0, 0xE0, 0x3B, 0x4D, 0xAE, 0x2A, 0xF5, 0xB0, 0xC8, 0xEB, 0xBB, 0x3C, 0x83, 0x53, 0x99, 0x61,\n",
    "    0x17, 0x2B, 0x04, 0x7E, 0xBA, 0x77, 0xD6, 0x26, 0xE1, 0x69, 0x14, 0x63, 0x55, 0x21, 0x0C, 0x7D,\n",
    "]   "
   ]
  },
  {
   "cell_type": "markdown",
   "metadata": {},
   "source": [
    "# Rozszerzanie klucza (*key scheduling*)\n",
    "Pierwszym krokiem w implementacji AES o rozmiarze klucza 128 bitów jest wygenerowanie 11 128-bitowych podkluczy (key schedule). Key schedule służy do uzyskania kluczy rund.\n",
    "\n",
    "1. Klucz główny K formuje tablicę zawierającą 4 bajtowe kolumny \n",
    "2. Operując na kolumnach generujemy kolejne podklucze rund:\n",
    "\n",
    "    a) każda pierwsza kolumna podklucza generowana jest na podstawie kolumny wcześniejszej $i-4$: RotWord, SubBytes, AddRcon \n",
    "    \n",
    "    b) kolejne kolumny generowane są na podstawie dwóch odpowiednich wcześniejszych kolumn $i-4$ oraz $i-1$ \n",
    "    "
   ]
  },
  {
   "cell_type": "markdown",
   "metadata": {},
   "source": [
    "### Stałe rundy Rcon \n",
    "\n",
    "Dodanie stałej rundy Rcon(i) ma na celu między innymi eliminację potencjalnych słabych kluczy. Tablica stałych Rcon ma postać $[rc_i, 0x00, 0x00, 0x00 ]$ gdzie $rc_i$ jest odpowiednim wielomianem z ciała $GF(2^8)$. "
   ]
  },
  {
   "cell_type": "code",
   "execution_count": 6,
   "metadata": {},
   "outputs": [
    {
     "name": "stdout",
     "output_type": "stream",
     "text": [
      "Dec: 54 hex: 0x36\n"
     ]
    }
   ],
   "source": [
    "#Rc - stała rundy (round constant)\n",
    "def rcon(i):\n",
    "    c = 1\n",
    "    if i == 1:\n",
    "        return 1\n",
    "    while i != 1:\n",
    "        b = c * 2\n",
    "    \n",
    "        if c >= 0x80:\n",
    "            b = b ^ 0x1B\n",
    "            b = b % 256\n",
    "        c = b\n",
    "        i = i-1\n",
    "    return b\n",
    "\n",
    "val = rcon(10)    \n",
    "print(\"Dec:\", val, \"hex:\", hex(val))  "
   ]
  },
  {
   "attachments": {},
   "cell_type": "markdown",
   "metadata": {},
   "source": [
    "## Zarządzanie kluczem w całości "
   ]
  },
  {
   "cell_type": "code",
   "execution_count": 7,
   "metadata": {},
   "outputs": [
    {
     "name": "stdout",
     "output_type": "stream",
     "text": [
      "11111111011111110101010100000000\n",
      "00010100110100101111110001100011\n",
      "01111010110100101111110001100011\n"
     ]
    }
   ],
   "source": [
    "def rotate_32bits_word(word):\n",
    "    return word[8:32] + word[0:8]\n",
    "\n",
    "\n",
    "def schedule_core(v, i):\n",
    "    #rotacja \n",
    "    v = rotate_32bits_word(v)\n",
    "    out = \"\"\n",
    "    #użyj Sboxu \n",
    "    for n in range(4):\n",
    "        n_byte = v[n*8:n*8+8]\n",
    "        out = out + decimal_to_binary(SBOX[binary_to_decimal(n_byte)])\n",
    "    \n",
    "    first_byte = out[0:8]\n",
    "    #dodaj rcon(i)\n",
    "    xor = binary_to_decimal(first_byte) ^ rcon(i)\n",
    "    out = decimal_to_binary(xor) + out[8:32]\n",
    "    return out\n",
    "\n",
    "print(rotate_32bits_word(\"00000000111111110111111101010101\"))\n",
    "print(schedule_core(\"00000000111111110111111101010101\", 2))\n",
    "print(schedule_core(\"00000000111111110111111101010101\", 11))"
   ]
  },
  {
   "cell_type": "code",
   "execution_count": 8,
   "metadata": {
    "scrolled": false
   },
   "outputs": [
    {
     "name": "stdout",
     "output_type": "stream",
     "text": [
      "['00000000', '00000001', '00000010', '00000011', '00000100', '00000101', '00000110', '00000111', '00001000', '00001001', '00001010', '00001011', '00001100', '00001101', '00001110', '00001111']\n",
      "['11010110', '10101010', '01110100', '11111101', '11010010', '10101111', '01110010', '11111010', '11011010', '10100110', '01111000', '11110001', '11010110', '10101011', '01110110', '11111110']\n",
      "['10110110', '10010010', '11001111', '00001011', '01100100', '00111101', '10111101', '11110001', '10111110', '10011011', '11000101', '00000000', '01101000', '00110000', '10110011', '11111110']\n",
      "['10110110', '11111111', '01110100', '01001110', '11010010', '11000010', '11001001', '10111111', '01101100', '01011001', '00001100', '10111111', '00000100', '01101001', '10111111', '01000001']\n",
      "['01000111', '11110111', '11110111', '10111100', '10010101', '00110101', '00111110', '00000011', '11111001', '01101100', '00110010', '10111100', '11111101', '00000101', '10001101', '11111101']\n",
      "['00111100', '10101010', '10100011', '11101000', '10101001', '10011111', '10011101', '11101011', '01010000', '11110011', '10101111', '01010111', '10101101', '11110110', '00100010', '10101010']\n",
      "['01011110', '00111001', '00001111', '01111101', '11110111', '10100110', '10010010', '10010110', '10100111', '01010101', '00111101', '11000001', '00001010', '10100011', '00011111', '01101011']\n",
      "['00010100', '11111001', '01110000', '00011010', '11100011', '01011111', '11100010', '10001100', '01000100', '00001010', '11011111', '01001101', '01001110', '10101001', '11000000', '00100110']\n",
      "['01000111', '01000011', '10000111', '00110101', '10100100', '00011100', '01100101', '10111001', '11100000', '00010110', '10111010', '11110100', '10101110', '10111111', '01111010', '11010010']\n",
      "['01010100', '10011001', '00110010', '11010001', '11110000', '10000101', '01010111', '01101000', '00010000', '10010011', '11101101', '10011100', '10111110', '00101100', '10010111', '01001110']\n"
     ]
    }
   ],
   "source": [
    "def XOR(bits1,bits2):\n",
    "    xor_result = \"\"\n",
    "    for index in range(len(bits1)):\n",
    "        if bits1[index] == bits2[index]: \n",
    "            xor_result += '0'\n",
    "        else:\n",
    "            xor_result += '1'\n",
    "    return xor_result            \n",
    "\n",
    "def hex_key_to_binary_128_bits(hex_text):\n",
    "    bin_text = hex_to_binary(hex_text)\n",
    "    padding = (128-len(bin_text))%128\n",
    "    bin_text = '0' * padding + bin_text\n",
    "    return bin_text\n",
    "\n",
    "\n",
    "def expand_key(key_128_bits):\n",
    "    bytes_number = 128 / 8   # 16\n",
    "    key_as_16_bytes = []\n",
    "    n =  1\n",
    "    \n",
    "    for i in range(0, 128, 8):\n",
    "        key_as_16_bytes.append(key_128_bits[i: i+8])\n",
    "    t = key_as_16_bytes\n",
    "    expanded_key = []\n",
    "    expanded_key = key_as_16_bytes\n",
    "    i = 16\n",
    "    while i < 176:\n",
    "        #ostatnie 4 bajty\n",
    "        t = expanded_key[-4:]\n",
    "        if i % 16 == 0:\n",
    "            x = schedule_core(t[0]+t[1]+t[2]+t[3], n)           \n",
    "            t = []\n",
    "            for k in range(0, 128, 8):\n",
    "                t.append(x[k: k+8])\n",
    "            n = n + 1           \n",
    "        for k in range(4):\n",
    "            expanded_key.append(XOR(t[k], expanded_key[i - 16]))\n",
    "            i = i + 1\n",
    "        \n",
    "    return expanded_key\n",
    "        \n",
    "def get_round_keys(key_schedule, i):\n",
    "    return key_schedule[i * 16 : (i + 1) * 16]\n",
    "\n",
    "bin_key = \"00000000000000010000001000000011000001000000010100000110000001110000100000001001000010100000101100001100000011010000111000001111\"\n",
    "\n",
    "key_table = expand_key(bin_key)\n",
    "\n",
    "for i in range(10):\n",
    "    round_key = get_round_keys(key_table, i)\n",
    "    print(round_key)"
   ]
  },
  {
   "attachments": {},
   "cell_type": "markdown",
   "metadata": {},
   "source": [
    "# Opis algorytmu AES\n",
    "1. Rozszerzenie klucza z 128 bitów do 176 bajtów. Rozszerzony klucz nazywany też poniżej \"key schedule\" możemy traktować jako      tablicę 16x11 bajtów, którą używamy jako klucze rundy (każdy wiersz, czyli 16 bajtów tworzy klucz kolejnej rundy).\n",
    "2. AddRoundKey (XOR stanu z kluczem rundy). Stan tworzymy poprzez przekształcenie 16 bajtowego tekstu jawnego w tablicę 4x4),\n",
    "   a kluczem rundy w tej operacji jest pierszy wiersz key schedule, czyli pierwotny klucz.\n",
    "3. Dla AES o kluczu 128 bitów wykonujemy 9 rund:\n",
    "    * SubBytes - każdy bajt stanu jest zastępowany innym korzystając z tablicy SBOX. Działanie ma zapewnić nieliniowość (więcej\n",
    "    na temat mechanizmu w opisie sboxów).\n",
    "    * ShiftRows - zamiana kolumn w wierszach według schematu przedstawionego poniżej. Krok służy do tego, aby zapewnić, żeby\n",
    "    kolumny były szyfrowane w niezależny sposób.      \n",
    "    * MixColumns - każda columna jest mnożona gmul przez określony wielomian, a zamiast dodawania używamy operacji XOR np. dla\n",
    "    pierwszej kolumny gmul(a[0], 2) ^ gmul(a[3], 1) ^ gmul(a[2], 1) ^ gmul(a[1], 3) (patrz opis poniżej).\n",
    "    * AddRoundKey - stan = XOR stanu z kluczem rundy.\n",
    "4. Finalna runda (dzisiąta):\n",
    "    * SubBytes\n",
    "    * ShiftRows\n",
    "    * AddRoundKey - kluczem rundy jest ostatni wiersz key schedule (w ten sposób został użyty cały rozszerzony klucz)."
   ]
  },
  {
   "cell_type": "markdown",
   "metadata": {},
   "source": [
    "#### AddRoundKey"
   ]
  },
  {
   "cell_type": "code",
   "execution_count": 9,
   "metadata": {},
   "outputs": [],
   "source": [
    "#dodowanie klucza rundy\n",
    "def add_round_key(state, round_key):\n",
    "    for i in range(4):\n",
    "        for j in range(4):\n",
    "            state[i][j] = XOR(state[i][j], round_key[i*4+j])"
   ]
  },
  {
   "attachments": {},
   "cell_type": "markdown",
   "metadata": {},
   "source": [
    "#### SubBytes"
   ]
  },
  {
   "cell_type": "code",
   "execution_count": 10,
   "metadata": {},
   "outputs": [],
   "source": [
    "#aplikacja S-boxów\n",
    "def sub_bytes(state):\n",
    "    for i in range(4):\n",
    "        for j in range(4):\n",
    "            dec_state = int(state[i][j], 2)\n",
    "            state[i][j] = decimal_to_binary(SBOX[dec_state])\n",
    "\n",
    "#odwrócenie aplikacji S-boxów\n",
    "def inv_sub_bytes(state):\n",
    "    for i in range(4):\n",
    "        for j in range(4):\n",
    "            dec_state = int(state[i][j], 2)\n",
    "            state[i][j] = decimal_to_binary(INV_SBOX[dec_state])"
   ]
  },
  {
   "attachments": {},
   "cell_type": "markdown",
   "metadata": {},
   "source": [
    "#### ShiftRows"
   ]
  },
  {
   "cell_type": "code",
   "execution_count": 11,
   "metadata": {},
   "outputs": [],
   "source": [
    "def shift_rows(s):\n",
    "    s[0][1], s[1][1], s[2][1], s[3][1] = s[1][1], s[2][1], s[3][1], s[0][1]\n",
    "    s[0][2], s[1][2], s[2][2], s[3][2] = s[2][2], s[3][2], s[0][2], s[1][2]\n",
    "    s[0][3], s[1][3], s[2][3], s[3][3] = s[3][3], s[0][3], s[1][3], s[2][3]\n",
    "\n",
    "\n",
    "def inv_shift_rows(s):\n",
    "    s[0][1], s[1][1], s[2][1], s[3][1] = s[3][1], s[0][1], s[1][1], s[2][1]\n",
    "    s[0][2], s[1][2], s[2][2], s[3][2] = s[2][2], s[3][2], s[0][2], s[1][2]\n",
    "    s[0][3], s[1][3], s[2][3], s[3][3] = s[1][3], s[2][3], s[3][3], s[0][3]"
   ]
  },
  {
   "attachments": {},
   "cell_type": "markdown",
   "metadata": {},
   "source": [
    "#### MixColumens"
   ]
  },
  {
   "cell_type": "code",
   "execution_count": 12,
   "metadata": {},
   "outputs": [
    {
     "name": "stdout",
     "output_type": "stream",
     "text": [
      "[['11011101', '10000011', '00011111', '10000001'], ['11101011', '10101010', '10001110', '11010000'], ['11010010', '01111011', '00111000', '10110101'], ['10000111', '11101010', '01000001', '01101110']]\n",
      "[['11011011', '00010011', '01010011', '01000101'], ['01100100', '00000111', '00000001', '01100010'], ['00010010', '10000000', '10111111', '01111110'], ['11001110', '00101100', '00000101', '11010011']]\n"
     ]
    }
   ],
   "source": [
    "def mix_one_column(state):\n",
    "    a = []\n",
    "    for i in range(4):\n",
    "        dec_state = int(state[i], 2)\n",
    "        a.append(dec_state)\n",
    "    \n",
    "    state[0] = decimal_to_binary(gmul(a[0], 2) ^ gmul(a[3], 1) ^ gmul(a[2], 1) ^ gmul(a[1], 3))\n",
    "    state[1] = decimal_to_binary(gmul(a[0], 1) ^ gmul(a[1], 2) ^ gmul(a[2], 3) ^ gmul(a[3], 1))\n",
    "    state[2] = decimal_to_binary(gmul(a[1], 1) ^ gmul(a[0], 1) ^ gmul(a[2], 2) ^ gmul(a[3], 3))\n",
    "    state[3] = decimal_to_binary(gmul(a[0], 3) ^ gmul(a[1], 1) ^ gmul(a[2], 1) ^ gmul(a[3], 2))\n",
    "\n",
    "    \n",
    "def mix_columns(state):\n",
    "     for i in range(4):\n",
    "        column = [state[0][i], state[1][i], state[2][i], state[3][i]]\n",
    "        mix_one_column(column)\n",
    "        state[0][i], state[1][i], state[2][i], state[3][i] = column\n",
    "\n",
    "\n",
    "def inv_mix_one_column(state):\n",
    "    a = [] \n",
    "    for i in range(4):\n",
    "        dec_state = int(state[i], 2)\n",
    "        a.append(dec_state)\n",
    "    \n",
    "    state[0] = decimal_to_binary(gmul(a[0], 14) ^ gmul(a[3], 9) ^ gmul(a[2], 13) ^ gmul(a[1], 11))\n",
    "    state[1] = decimal_to_binary(gmul(a[1], 14) ^ gmul(a[0], 9) ^ gmul(a[3], 13) ^ gmul(a[2], 11))\n",
    "    state[2] = decimal_to_binary(gmul(a[2], 14) ^ gmul(a[1], 9) ^ gmul(a[0], 13) ^ gmul(a[3], 11))\n",
    "    state[3] = decimal_to_binary(gmul(a[3], 14) ^ gmul(a[2], 9) ^ gmul(a[1], 13) ^ gmul(a[0], 11))\n",
    "    \n",
    "    \n",
    "        \n",
    "def inv_mix_columns(state):\n",
    "    for i in range(4):\n",
    "        column = [state[0][i], state[1][i], state[2][i], state[3][i]]\n",
    "        inv_mix_one_column(column)\n",
    "        state[0][i], state[1][i], state[2][i], state[3][i] = column    \n",
    "\n",
    "#example           \n",
    "state = [['11011011', '00010011', '01010011', '01000101'], \n",
    "         ['01100100', '00000111', '00000001', '01100010'], \n",
    "         ['00010010', '10000000', '10111111', '01111110'], \n",
    "         ['11001110', '00101100', '00000101', '11010011']]\n",
    "\n",
    "mix_columns(state)\n",
    "print(state)\n",
    "inv_mix_columns(state)\n",
    "print(state)"
   ]
  },
  {
   "cell_type": "markdown",
   "metadata": {},
   "source": [
    "### Szyfrujmy AESem!"
   ]
  },
  {
   "cell_type": "code",
   "execution_count": 13,
   "metadata": {},
   "outputs": [
    {
     "name": "stdout",
     "output_type": "stream",
     "text": [
      "Tekst jawny:\n",
      "00000000000000000000000000000000000000000001001000110100001100100100000000010101010001010001010101000011010100010011010001010001\n",
      "Szyfrogram:\n",
      "00111100001001011111011000011101010010000111010111001100011001011100111010100001110000000001100011010011011001100111110000010001\n",
      "Tekst odszyfrowany:\n",
      "00000000000000000000000000000000000000000001001000110100001100100100000000010101010001010001010101000011010100010011010001010001\n"
     ]
    }
   ],
   "source": [
    "def bytes_to_matrix(text):\n",
    "    \"\"\" Converts a 16-byte array into a 4x4 matrix.  \"\"\"\n",
    "    bytes_table = [text[i:i+8] for i in range(0, len(text), 8)]\n",
    "    #return bytes_table\n",
    "    return [bytes_table[i:i+4] for i in range(0, 16, 4)]\n",
    "       \n",
    "                       \n",
    "#szyfrowanie pojedynczego bloku 16 bajtowego\n",
    "def aes128_encrypt(plain_text, key_128_bits):\n",
    "    #wygenerujmy klucze rund\n",
    "    key_schedule = expand_key(key_128_bits) #11 podkluczy \n",
    "    # 4x4 grid \n",
    "    state = bytes_to_matrix(plain_text)\n",
    "    \n",
    "    # round 0\n",
    "    add_round_key(state, get_round_keys(key_schedule, 0))\n",
    "                  \n",
    "    # round 1 - 9\n",
    "    for i in range(1, 10):\n",
    "        sub_bytes(state)\n",
    "        shift_rows(state)\n",
    "        mix_columns(state)\n",
    "        add_round_key(state, get_round_keys(key_schedule, i))\n",
    "    \n",
    "    # round 10\n",
    "    sub_bytes(state)\n",
    "    shift_rows(state)\n",
    "    add_round_key(state, get_round_keys(key_schedule, 10))\n",
    "   \n",
    "    return state\n",
    "\n",
    "#deszyfrowanie pojedynczego bloku \n",
    "def aes128_decrypt(cipher_text, key_128_bits):\n",
    "    key_schedule = expand_key(key_128_bits)\n",
    "    state = bytes_to_matrix(cipher_text)\n",
    "    \n",
    "    # round 10\n",
    "    add_round_key(state, get_round_keys(key_schedule, 10))\n",
    "    \n",
    "    # round 9 - 1\n",
    "    for i in range(9,0,-1):\n",
    "        inv_shift_rows(state)\n",
    "        inv_sub_bytes(state)\n",
    "        add_round_key(state, get_round_keys(key_schedule, i))\n",
    "        inv_mix_columns(state)\n",
    "    \n",
    "    # round 0\n",
    "    inv_shift_rows(state)\n",
    "    inv_sub_bytes(state)\n",
    "    add_round_key(state, get_round_keys(key_schedule, 0))\n",
    "\n",
    "    return state\n",
    "\n",
    "def AES_encrypt(plaintextData, keyData):\n",
    "    ciphertext_list = aes128_encrypt(plaintextData, keyData)\n",
    "    flat_list = [item for sublist in ciphertext_list for item in sublist]\n",
    "    ciphertext = \"\".join(flat_list)\n",
    "    return ciphertext\n",
    "\n",
    "def AES_decrypt(ciphertextData, keyData):\n",
    "    plaintext_list = aes128_decrypt(ciphertextData, keyData)\n",
    "    flat_list = [item for sublist in plaintext_list for item in sublist]\n",
    "    plaintext = \"\".join(flat_list)\n",
    "    return plaintext\n",
    "    \n",
    "# blok 128-bitowy \n",
    "bin_plaintext = \"00000000000000000000000000000000000000000001001000110100001100100100000000010101010001010001010101000011010100010011010001010001\"\n",
    "# klucz 128-bitowy \n",
    "bin_key =       \"00000000000001111111100010001111111110001000111111111000100011111111100011111111000100011111111100010001111111110001000111111111\"\n",
    "\n",
    "print(\"Tekst jawny:\")\n",
    "print(bin_plaintext)\n",
    "\n",
    "encrypted_message = AES_encrypt(bin_plaintext, bin_key)\n",
    "print(\"Szyfrogram:\")\n",
    "print(encrypted_message)\n",
    "\n",
    "decrypted_message = AES_decrypt(encrypted_message, bin_key)\n",
    "print(\"Tekst odszyfrowany:\")\n",
    "print(decrypted_message)"
   ]
  },
  {
   "cell_type": "markdown",
   "metadata": {},
   "source": [
    "## Tryby algorytmów szyfrowych \n",
    "Stosowanie szyfrów blokowych wymaga rozwiązania dwóch problemów:\n",
    "1. Co zrobić gdy wiadomość jest wieksza niż rozmiar bloku (przypomnienie: AES ma blok o rozmiarze 128 bitów)\n",
    "2. Co zrobić gdy rozmiar wiadomości nie jest wielokrotnością rozmiaru bloków\n",
    "\n",
    "Ad 1) Rozwiązaniem jest zastosowanie tzw. trybów algorytmów szyfrowych (*block cipher mode of operation*) czyli sposób szyfrowania wiadomości podzielonej na bloki. \\\n",
    "Ad 2) Rozwiązaniem jest zastosowanie dopełnienia (*padding*) czyli porcji danych dodanych do ostatniego bloku w celu dopełnienia go do pełnej wielkości bloku\n",
    "\n",
    "\n",
    "#### Zadanie 2:\n",
    "Zapoznaj się z trybami ECB, CBC i CTR. Zaimplementuj je dla powyższej implementacji AES. "
   ]
  },
  {
   "cell_type": "code",
   "execution_count": 14,
   "metadata": {},
   "outputs": [
    {
     "name": "stdout",
     "output_type": "stream",
     "text": [
      "94955877992088634361269164448875663279\n",
      "IV:  01000111011011111101011000111101111001101111111001101111101001111000111111000011101100100110000111011101101010011100111110101111\n"
     ]
    }
   ],
   "source": [
    "# Funkcje pomocnicze \n",
    "from textwrap import wrap\n",
    "import math \n",
    "from codecs import encode\n",
    "\n",
    "#tablica znaków w tablicę kodów int\n",
    "def intoIntArray(message: str):\n",
    "    int_array = []\n",
    "    mesg_array = list(message) \n",
    "    for i in mesg_array:\n",
    "        int_array.append(ord(i))\n",
    "    return int_array\n",
    "\n",
    "def intListToBinStr(message_list):\n",
    "    binary = []\n",
    "    for x in message_list: \n",
    "        binary.append(get_bin(x, 8))\n",
    "    binary_str = \"\"\n",
    "    for x in binary:\n",
    "        binary_str+=x \n",
    "    return binary_str\n",
    "\n",
    "# konwersja do postaci binarnej \n",
    "get_bin = lambda x, n: format(x, 'b').zfill(n)\n",
    "\n",
    "# losowe dane dla wektora IV oraz Nonce\n",
    "import random\n",
    "random.seed(\"key\")\n",
    "random128bits = random.getrandbits(128)\n",
    "print(random128bits)\n",
    "iv = get_bin(random128bits,128)\n",
    "print(\"IV: \", iv)"
   ]
  },
  {
   "cell_type": "markdown",
   "metadata": {},
   "source": [
    "### Tryby ECB, CBC, CTR bez dopełnienia "
   ]
  },
  {
   "cell_type": "code",
   "execution_count": 15,
   "metadata": {},
   "outputs": [
    {
     "name": "stdout",
     "output_type": "stream",
     "text": [
      "plaintext:  ['01001100011011110111001001100101011011010010000001101001011100000111001101110101011011010010000001100100011011110110110001101111', '01110010001000000111001101101001011101000010000001100001011011010110010101110100001011000010000001100011011011110110111001110011', '01100101011000110111010001100101011101000111010101110010001000000110000101100100011010010111000001101001011100110110001101101001', '01101110011001110010000001100101011011000110100101110100001011100010000001001001011011100010000001100110011001010110110001101001', '01110011001000000110010001101001011000010110110100101100001000000110110101100001011110000110100101101101011101010111001100100000', '01101110011001010110001100100000011101000111010101110010011100000110100101110011001000000110010001110101011010010111001100101110'] \n",
      "\n",
      "Szyfrowanie i deszyfrowanie w trybie ECB (Elektronic Code Book Mode)\n",
      "\n",
      "Tekst jawny:\n",
      "['01001100011011110111001001100101011011010010000001101001011100000111001101110101011011010010000001100100011011110110110001101111', '01110010001000000111001101101001011101000010000001100001011011010110010101110100001011000010000001100011011011110110111001110011', '01100101011000110111010001100101011101000111010101110010001000000110000101100100011010010111000001101001011100110110001101101001', '01101110011001110010000001100101011011000110100101110100001011100010000001001001011011100010000001100110011001010110110001101001', '01110011001000000110010001101001011000010110110100101100001000000110110101100001011110000110100101101101011101010111001100100000', '01101110011001010110001100100000011101000111010101110010011100000110100101110011001000000110010001110101011010010111001100101110'] \n",
      "\n",
      "Szyfrogram:\n",
      "['00001001000011101110010011100110101011110100011001011101000011001100000001011110010101100111010101111101111111110110101110111111', '10000110101111001100011010100101101010011011011101011100011101100111001111011011100011001011100110000000111000111101100101001110', '11001011111010001101010010110000110110011000101111000110100010101101111010011111100000111101001001001100011110110011101101110101', '10001101000100011010000000010011010001101010011101000001110110010110011100011000011001011110000000001101101011101011000011010001', '10001011010000001100101010110101011011110010111011001110110100100011100011001011001110101100100010101100010010011101011001101101', '10100011101000110110001011101111010110111011101111100001011100000100000100110110111001110000000110011100011001101100110001110100'] \n",
      "\n",
      "Tekst odszyfrowany:\n",
      "['01001100011011110111001001100101011011010010000001101001011100000111001101110101011011010010000001100100011011110110110001101111', '01110010001000000111001101101001011101000010000001100001011011010110010101110100001011000010000001100011011011110110111001110011', '01100101011000110111010001100101011101000111010101110010001000000110000101100100011010010111000001101001011100110110001101101001', '01101110011001110010000001100101011011000110100101110100001011100010000001001001011011100010000001100110011001010110110001101001', '01110011001000000110010001101001011000010110110100101100001000000110110101100001011110000110100101101101011101010111001100100000', '01101110011001010110001100100000011101000111010101110010011100000110100101110011001000000110010001110101011010010111001100101110'] \n",
      "\n",
      "Szyfrowanie i deszyfrowanie w trybie CBC (Chaining Book Mode)\n",
      "\n",
      "Tekst jawny:\n",
      "['01001100011011110111001001100101011011010010000001101001011100000111001101110101011011010010000001100100011011110110110001101111', '01110010001000000111001101101001011101000010000001100001011011010110010101110100001011000010000001100011011011110110111001110011', '01100101011000110111010001100101011101000111010101110010001000000110000101100100011010010111000001101001011100110110001101101001', '01101110011001110010000001100101011011000110100101110100001011100010000001001001011011100010000001100110011001010110110001101001', '01110011001000000110010001101001011000010110110100101100001000000110110101100001011110000110100101101101011101010111001100100000', '01101110011001010110001100100000011101000111010101110010011100000110100101110011001000000110010001110101011010010111001100101110'] \n",
      "\n",
      "Tekst zaszyfrowany:\n",
      "['10111000011011000010010011111010101101010011001101011010010001000111111110110010111100111010010010010100110111011110000100010010', '01001011001111110000101010011011011011100010000010110111000110101010011100010111100111010001010000111111011011001100010001010100', '10001001101110110111010111110000100011011001010001101001010111010010000101101100011111111010100011000100101110000110110000011001', '11001000101000100110010010111101111101000101101101000110100010101011000101111010001001000010100111101100110011001000011010111010', '00010011111101110010111111111101100001101101100110010111100000111001010000000000101010011110000100010000100001010010010010001101', '10000111011011011011100011000000100101000001001101010000001110011010000111011100101110010100110111010010111111111101100110011000'] \n",
      "\n",
      "Tekst odszyfrowany:\n",
      "['01001100011011110111001001100101011011010010000001101001011100000111001101110101011011010010000001100100011011110110110001101111', '01110010001000000111001101101001011101000010000001100001011011010110010101110100001011000010000001100011011011110110111001110011', '01100101011000110111010001100101011101000111010101110010001000000110000101100100011010010111000001101001011100110110001101101001', '01101110011001110010000001100101011011000110100101110100001011100010000001001001011011100010000001100110011001010110110001101001', '01110011001000000110010001101001011000010110110100101100001000000110110101100001011110000110100101101101011101010111001100100000', '01101110011001010110001100100000011101000111010101110010011100000110100101110011001000000110010001110101011010010111001100101110'] \n",
      "\n",
      "Szyfrowanie i deszyforwanie w trybie CTR (Counter Mode)\n"
     ]
    }
   ],
   "source": [
    "# Długa wiadomość \n",
    "long_message = \"Lorem ipsum dolor sit amet, consectetur adipiscing elit. In felis diam, maximus nec turpis duis.\"\n",
    "\n",
    "# Konwersja napisu do ciągu bitów (przez listę kodów)\n",
    "long_message_list = intoIntArray(long_message)\n",
    "binary_plaintext_str = intListToBinStr(long_message_list) \n",
    "\n",
    "\n",
    "# Podział wiadomości na bloki o romiarze 128 bitów \n",
    "plaintextBinaryBlocks = wrap(binary_plaintext_str, 128)      \n",
    "print(\"plaintext: \", plaintextBinaryBlocks, \"\\n\")\n",
    "\n",
    "### tryb ECB \n",
    "print(\"Szyfrowanie i deszyfrowanie w trybie ECB (Elektronic Code Book Mode)\\n\")\n",
    "ciphertext_ecb = []\n",
    "\n",
    "print(\"Tekst jawny:\")\n",
    "print(plaintextBinaryBlocks,\"\\n\")\n",
    "\n",
    "for i in plaintextBinaryBlocks:\n",
    "    encrypted_message = AES_encrypt(i, bin_key)\n",
    "    ciphertext_ecb.append(encrypted_message)\n",
    "print(\"Szyfrogram:\")\n",
    "print(ciphertext_ecb, \"\\n\")\n",
    "decrypted_ecb = []\n",
    "\n",
    "for i in ciphertext_ecb:\n",
    "    decrypted_message = AES_decrypt(i, bin_key)\n",
    "    decrypted_ecb.append(decrypted_message)\n",
    "print(\"Tekst odszyfrowany:\")\n",
    "print(decrypted_ecb, \"\\n\")\n",
    "\n",
    "\n",
    "print(\"Szyfrowanie i deszyfrowanie w trybie CBC (Chaining Book Mode)\\n\")    \n",
    "random.seed(\"key\")\n",
    "random128bits = random.getrandbits(128)\n",
    "iv = get_bin(random128bits,128)\n",
    "\n",
    "ciphertext_ecb = []\n",
    "\n",
    "print(\"Tekst jawny:\")\n",
    "print(plaintextBinaryBlocks, \"\\n\")\n",
    "\n",
    "iv_e = iv\n",
    "for i in plaintextBinaryBlocks:\n",
    "    encrypted_message = AES_encrypt(XOR(i, iv_e), bin_key)\n",
    "    ciphertext_ecb.append(encrypted_message)\n",
    "    iv_e = encrypted_message\n",
    "    \n",
    "print(\"Tekst zaszyfrowany:\")\n",
    "print(ciphertext_ecb, \"\\n\")\n",
    "decrypted_ecb = []\n",
    "\n",
    "iv_d = iv\n",
    "for i in range(len(ciphertext_ecb)):\n",
    "    decrypted_message = AES_decrypt(ciphertext_ecb[i], bin_key)\n",
    "    if i ==0:\n",
    "        decrypted_message = XOR(decrypted_message, iv_d)\n",
    "    else:\n",
    "        decrypted_message = XOR(decrypted_message, ciphertext_ecb[i-1])\n",
    "    decrypted_ecb.append(decrypted_message)\n",
    "    iv_d = decrypted_message\n",
    "    \n",
    "print(\"Tekst odszyfrowany:\")\n",
    "print(decrypted_ecb, \"\\n\")\n",
    "\n",
    "print(\"Szyfrowanie i deszyforwanie w trybie CTR (Counter Mode)\")\n",
    "\n"
   ]
  },
  {
   "cell_type": "markdown",
   "metadata": {},
   "source": [
    "\n",
    "#### Zadanie 3:\n",
    "Zapoznaj się z dopełnieniem PKCS5 i zaimplementuj go (dla wybranego trybu algorytmu szyfrowego)"
   ]
  },
  {
   "cell_type": "code",
   "execution_count": 16,
   "metadata": {},
   "outputs": [],
   "source": [
    "#długa wiadomość wymagająca dopełnienia \n",
    "long_message_padding = \"Lorem ipsum dolor sit amet, consectetur adipiscing elit. In felis diam, maximus nec turpis duis. Ut enim ad\" \n",
    "\n",
    "\n"
   ]
  },
  {
   "cell_type": "markdown",
   "metadata": {},
   "source": [
    "### Literatura\n",
    "- https://www.samiam.org/\n",
    "- wikipedia Advanced Encryption Standard"
   ]
  }
 ],
 "metadata": {
  "kernelspec": {
   "display_name": "Python 3 (ipykernel)",
   "language": "python",
   "name": "python3"
  },
  "language_info": {
   "codemirror_mode": {
    "name": "ipython",
    "version": 3
   },
   "file_extension": ".py",
   "mimetype": "text/x-python",
   "name": "python",
   "nbconvert_exporter": "python",
   "pygments_lexer": "ipython3",
   "version": "3.9.7"
  }
 },
 "nbformat": 4,
 "nbformat_minor": 2
}
